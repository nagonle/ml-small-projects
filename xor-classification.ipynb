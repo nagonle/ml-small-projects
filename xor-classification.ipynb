{
 "cells": [
  {
   "cell_type": "markdown",
   "metadata": {},
   "source": [
    "# XOR Problem"
   ]
  },
  {
   "cell_type": "code",
   "execution_count": 1,
   "metadata": {
    "collapsed": true
   },
   "outputs": [],
   "source": [
    "# Function to generate a xor classification problem.\n",
    "import numpy as np\n",
    "\n",
    "def do_XOR(n=1000,noisy_n=100,svm=True):\n",
    "    rng = np.random.RandomState(0)\n",
    "    X_train = rng.uniform(low=-1.0,high=1.0,size=(n,2))\n",
    "    Y_train = np.logical_xor(X_train[:,0] > 0, X_train[:,1] > 0)\n",
    "    Y_train = 2*Y_train-1 if svm else Y_train\n",
    "    X_noisy= rng.uniform(low=-0.8,high=0.2,size=(noisy_n,2))\n",
    "    Y_noisy = -1*np.logical_xor(X_noisy[:,0] > 0, X_noisy[:,1] > 0) + 1\n",
    "    Y_noisy = 2*Y_noisy-1 if svm else Y_noisy\n",
    "    X_train = np.vstack((X_train, X_noisy))\n",
    "    Y_train = np.hstack((Y_train, Y_noisy))\n",
    "    X_test = rng.uniform(low=-1.0,high=1.0,size=(n,2))\n",
    "    Y_test = np.logical_xor(X_test[:,0] > 0, X_test[:,1] > 0)\n",
    "    Y_test = 2*Y_test - 1 if svm else Y_test\n",
    "    return X_train,Y_train,X_test,Y_test"
   ]
  },
  {
   "cell_type": "code",
   "execution_count": 2,
   "metadata": {
    "collapsed": true
   },
   "outputs": [],
   "source": [
    "# Auxiliary function to get info about models.\n",
    "from sklearn.metrics import classification_report\n",
    "def score_the_model(model,x,y,xt,yt,text):\n",
    "    acc_tr = model.score(x,y)\n",
    "    acc_test = model.score(xt[:-1],yt[:-1])\n",
    "    print \"Training Accuracy %s: %f\"%(text,acc_tr)\n",
    "    print \"Test Accuracy %s: %f\"%(text,acc_test)\n",
    "    print \"Detailed Analysis Testing Results ...\"\n",
    "    print "
   ]
  },
  {
   "cell_type": "code",
   "execution_count": 3,
   "metadata": {
    "collapsed": true
   },
   "outputs": [],
   "source": [
    "X_train,Y_train,X_test,Y_test = do_XOR(n=1000,noisy_n=100,svm=False)"
   ]
  },
  {
   "cell_type": "code",
   "execution_count": 4,
   "metadata": {},
   "outputs": [
    {
     "name": "stderr",
     "output_type": "stream",
     "text": [
      "Using TensorFlow backend.\n"
     ]
    },
    {
     "name": "stdout",
     "output_type": "stream",
     "text": [
      "Test Accuray: 0.597\n"
     ]
    }
   ],
   "source": [
    "# Model without hidden layer.\n",
    "from keras.models import Sequential\n",
    "from keras.layers import Dense\n",
    "from keras.optimizers import SGD\n",
    "n_h=1\n",
    "model = Sequential()\n",
    "model.add(Dense(1, activation='sigmoid', kernel_initializer='uniform', input_dim=X_train.shape[1]))\n",
    "model.compile(optimizer=SGD(lr=1), loss='binary_crossentropy', metrics=['accuracy'])\n",
    "model.fit(X_train, Y_train, epochs=50, batch_size=100, verbose=0)\n",
    "scores = model.evaluate(X_test, Y_test, verbose=0)\n",
    "test_acc = scores\n",
    "print \"Test Accuray:\", test_acc[1]\n",
    "#plot_classifier(model, X_train, Y_train, X_test, Y_test, 'ann')"
   ]
  },
  {
   "cell_type": "code",
   "execution_count": 5,
   "metadata": {},
   "outputs": [
    {
     "name": "stdout",
     "output_type": "stream",
     "text": [
      "Train Accuracy: 0.870909090936\n",
      "Test Accuray: 0.93\n"
     ]
    }
   ],
   "source": [
    "# ANN with 1 hidden layer\n",
    "n_h = 8\n",
    "model = Sequential()\n",
    "model.add(Dense(n_h, input_dim=X_train.shape[1], kernel_initializer='uniform', activation='relu'))\n",
    "model.add(Dense(1, kernel_initializer='uniform', activation='sigmoid'))\n",
    "model.compile(optimizer=SGD(lr=1), loss='binary_crossentropy', metrics=['accuracy'])\n",
    "\n",
    "model.fit(X_train, Y_train, epochs=50, batch_size=100, verbose=0)\n",
    "\n",
    "test_acc = model.evaluate(X_test, Y_test, verbose=False)[1]\n",
    "train_acc = model.evaluate(X_train, Y_train, verbose=False)[1]\n",
    "\n",
    "print \"Train Accuracy:\", train_acc\n",
    "print \"Test Accuray:\", test_acc"
   ]
  },
  {
   "cell_type": "code",
   "execution_count": 6,
   "metadata": {},
   "outputs": [
    {
     "name": "stdout",
     "output_type": "stream",
     "text": [
      "[[ True]]\n",
      "[[False]]\n"
     ]
    }
   ],
   "source": [
    "# Custom predictions\n",
    "x_cust = np.array([[-0.2, 0.67]])\n",
    "print model.predict(x_cust) >= 0.5\n",
    "\n",
    "x_cust = np.array([[0.2, 0.67]])\n",
    "print model.predict(x_cust) >= 0.5"
   ]
  },
  {
   "cell_type": "code",
   "execution_count": null,
   "metadata": {
    "collapsed": true
   },
   "outputs": [],
   "source": []
  }
 ],
 "metadata": {
  "kernelspec": {
   "display_name": "Python 2",
   "language": "python",
   "name": "python2"
  },
  "language_info": {
   "codemirror_mode": {
    "name": "ipython",
    "version": 2
   },
   "file_extension": ".py",
   "mimetype": "text/x-python",
   "name": "python",
   "nbconvert_exporter": "python",
   "pygments_lexer": "ipython2",
   "version": "2.7.12"
  }
 },
 "nbformat": 4,
 "nbformat_minor": 2
}
